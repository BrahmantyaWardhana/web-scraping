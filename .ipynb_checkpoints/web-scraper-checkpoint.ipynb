{
 "cells": [
  {
   "cell_type": "markdown",
   "id": "fc5e329a-f794-4cde-accd-c92a0f746f87",
   "metadata": {},
   "source": [
    "### Jewel Osco meat prices"
   ]
  },
  {
   "cell_type": "code",
   "execution_count": 4,
   "id": "a0093672-e438-482b-8ffb-771a5884ada8",
   "metadata": {},
   "outputs": [],
   "source": [
    "from bs4 import BeautifulSoup\n",
    "import requests\n",
    "\n",
    "header = { \n",
    "    'User-Agent':'Mozilla/5.0 (Windows NT 10.0; Win64; x64) AppleWebKit/537.36 (KHTML, like Gecko) Chrome/137.0.0.0 Safari/537.36 Edg/137.0.3296.93'\n",
    "    }\n",
    "page_url = 'https://www.jewelosco.com/aisle-vs/meat-seafood/meat-essentials.html?sort=price'\n",
    "\n",
    "# check request\n",
    "page_to_scrape = requests.get(page_url, headers=header)\n",
    "if page_to_scrape.status_code != 200:\n",
    "    print(f\"Failed to fetch page. Status code: {page_to_scrape.status_code}\")\n",
    "    exit()\n",
    "\n",
    "# scrape data from url\n",
    "soup = BeautifulSoup(page_to_scrape.content, 'lxml')\n",
    "products = soup.findAll('a', attrs={'data-qa':'prd-itm-pttl'})\n",
    "\n",
    "if not products:\n",
    "    print(\"No products found. Possible issues:\")\n",
    "    print(\"- The page structure may have changed\")\n",
    "    print(\"- The content might be loaded dynamically with JavaScript\")\n",
    "    print(\"- The website might be blocking your scraper\")\n",
    "else:\n",
    "    for product in products:\n",
    "        print(product.text.strip())"
   ]
  },
  {
   "cell_type": "code",
   "execution_count": null,
   "id": "34d59672-7ae1-459a-9162-b279104b3d3a",
   "metadata": {},
   "outputs": [],
   "source": []
  }
 ],
 "metadata": {
  "kernelspec": {
   "display_name": "Python 3 (ipykernel)",
   "language": "python",
   "name": "python3"
  },
  "language_info": {
   "codemirror_mode": {
    "name": "ipython",
    "version": 3
   },
   "file_extension": ".py",
   "mimetype": "text/x-python",
   "name": "python",
   "nbconvert_exporter": "python",
   "pygments_lexer": "ipython3",
   "version": "3.12.7"
  }
 },
 "nbformat": 4,
 "nbformat_minor": 5
}
