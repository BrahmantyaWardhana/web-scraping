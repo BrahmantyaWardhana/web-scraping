{
 "cells": [
  {
   "cell_type": "markdown",
   "id": "fc5e329a-f794-4cde-accd-c92a0f746f87",
   "metadata": {},
   "source": [
    "### Jewel Osco meat prices"
   ]
  },
  {
   "cell_type": "code",
   "execution_count": 9,
   "id": "34d59672-7ae1-459a-9162-b279104b3d3a",
   "metadata": {},
   "outputs": [
    {
     "name": "stdout",
     "output_type": "stream",
     "text": [
      "Pub Burger 8 Oz 1 Count - Each\n",
      "Pub Burger 85% Lean 15% Fat Plain - Each\n",
      "PERDUE Fresh Chicken Thighs - 1.5 Lb\n",
      "PERDUE Fresh Chicken Drumsticks - 1.75 Lb\n",
      "Pub Burger Jr 4 Oz 1 Count - Each\n",
      "Sanderson Farms Chicken Livers Frozen - 20 Oz\n",
      "Pork Skewers Cajun Seasoning - LB\n",
      "Beef Pub Burgers Mr Pig Seasoning - 1 LB\n",
      "Beef Pub Burgers Lemon Pepper Seasoning - 0.5 Lb\n",
      "Pork Tenderloin Whole - 1.00 Lb\n",
      "Beef Pub Burger Garlic California Seasoning - 0.5 Lb\n",
      "PERDUE No Antibiotics Ever Ground Chicken Tray Pack - 16 oz\n",
      "USDA Choice Beef Round Pepper Steak - 0.75 LB\n",
      "Chicken Breast Boneless Skinless For Stir Fry - 1 Lb\n",
      "Chicken Breast Boneless Skinless Thin Cut - 1 Lb\n",
      "Chicken For Stir Fry - 1 Lb\n",
      "Chicken Meat For Tacos - 1 Lb\n",
      "Chicken Meat For Tacos Service Case - 1 Lb\n",
      "Signature Farms Chicken Drumsticks - 1.50 Lb\n",
      "Beef Pub Burger California Garlic Seasoning - LB\n",
      "Boneless Skinless Chicken Breasts - 1.75 lb\n",
      "Signature Farms Bone In Chicken Thighs - 2.00 lb\n",
      "Beef USDA Choice For Stir Fry - 1 Lb\n",
      "Silver Fern Farms Premium Ground Venison 95% Lean - 16 Oz\n",
      "USDA Choice Beef Top Sirloin Strip Stroganoff - 1 Lb\n",
      "Hormel Always Tender Mesquite ...rk Loin Filet - 1 Lb\n",
      "Hormel Always Tender Herb Pork Loin Filet - 1 Lb\n",
      "Chicken Thighg Boneless California Garlic Seasoning - LB\n"
     ]
    }
   ],
   "source": [
    "from bs4 import BeautifulSoup\n",
    "from selenium import webdriver\n",
    "from selenium.webdriver.chrome.options import Options\n",
    "from selenium.webdriver.common.by import By\n",
    "from selenium.webdriver.support.ui import WebDriverWait\n",
    "from selenium.webdriver.support import expected_conditions as EC\n",
    "\n",
    "header = { \n",
    "    'User-Agent': 'Mozilla/5.0 (Windows NT 10.0; Win64; x64; rv:139.0) Gecko/20100101 Firefox/139.0'\n",
    "}\n",
    "page_url = 'https://www.jewelosco.com/aisle-vs/meat-seafood/meat-essentials.html?sort=price'\n",
    "\n",
    "# Set up Selenium\n",
    "options = Options()\n",
    "options.add_argument(\"--headless\")\n",
    "options.add_argument(\"user-agent=Mozilla/5.0 (Windows NT 10.0; Win64; x64; rv:139.0) Gecko/20100101 Firefox/139.0\")\n",
    "driver = webdriver.Chrome(options=options)\n",
    "\n",
    "# Get page with Selenium\n",
    "driver.get(page_url)\n",
    "WebDriverWait(driver, 10).until(EC.presence_of_element_located((By.CSS_SELECTOR, 'a[data-qa=\"prd-itm-pttl\"]')))\n",
    "\n",
    "# Parse with BeautifulSoup\n",
    "soup = BeautifulSoup(driver.page_source, 'lxml')\n",
    "products = soup.findAll('a', attrs={'data-qa':'prd-itm-pttl'})\n",
    "\n",
    "if not products:\n",
    "    print(\"No products found. Possible issues:\")\n",
    "    print(\"- The page structure may have changed\")\n",
    "    print(\"- The content might be loaded dynamically with JavaScript\")\n",
    "    print(\"- The website might be blocking your scraper\")\n",
    "else:\n",
    "    for product in products:\n",
    "        print(product.text.strip())\n",
    "\n",
    "driver.quit()"
   ]
  },
  {
   "cell_type": "code",
   "execution_count": null,
   "id": "6e0b3945-0815-4f61-8ca3-6ec3cbe1bf23",
   "metadata": {},
   "outputs": [],
   "source": []
  }
 ],
 "metadata": {
  "kernelspec": {
   "display_name": "Python 3 (ipykernel)",
   "language": "python",
   "name": "python3"
  },
  "language_info": {
   "codemirror_mode": {
    "name": "ipython",
    "version": 3
   },
   "file_extension": ".py",
   "mimetype": "text/x-python",
   "name": "python",
   "nbconvert_exporter": "python",
   "pygments_lexer": "ipython3",
   "version": "3.12.7"
  }
 },
 "nbformat": 4,
 "nbformat_minor": 5
}
