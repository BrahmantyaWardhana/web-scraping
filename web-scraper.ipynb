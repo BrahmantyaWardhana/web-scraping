{
 "cells": [
  {
   "cell_type": "markdown",
   "id": "fc5e329a-f794-4cde-accd-c92a0f746f87",
   "metadata": {},
   "source": [
    "### Jewel Osco meat prices"
   ]
  },
  {
   "cell_type": "code",
   "execution_count": 13,
   "id": "34d59672-7ae1-459a-9162-b279104b3d3a",
   "metadata": {},
   "outputs": [
    {
     "ename": "TimeoutException",
     "evalue": "Message: \n",
     "output_type": "error",
     "traceback": [
      "\u001b[1;31m---------------------------------------------------------------------------\u001b[0m",
      "\u001b[1;31mTimeoutException\u001b[0m                          Traceback (most recent call last)",
      "Cell \u001b[1;32mIn[13], line 45\u001b[0m\n\u001b[0;32m     42\u001b[0m     last_count \u001b[38;5;241m=\u001b[39m current_count\n\u001b[0;32m     44\u001b[0m \u001b[38;5;66;03m# check button existence\u001b[39;00m\n\u001b[1;32m---> 45\u001b[0m load_more \u001b[38;5;241m=\u001b[39m \u001b[43mWebDriverWait\u001b[49m\u001b[43m(\u001b[49m\u001b[43mdriver\u001b[49m\u001b[43m,\u001b[49m\u001b[43m \u001b[49m\u001b[38;5;241;43m3\u001b[39;49m\u001b[43m)\u001b[49m\u001b[38;5;241;43m.\u001b[39;49m\u001b[43muntil\u001b[49m\u001b[43m(\u001b[49m\u001b[43mEC\u001b[49m\u001b[38;5;241;43m.\u001b[39;49m\u001b[43melement_to_be_clickable\u001b[49m\u001b[43m(\u001b[49m\u001b[43m(\u001b[49m\u001b[43mBy\u001b[49m\u001b[38;5;241;43m.\u001b[39;49m\u001b[43mCSS_SELECTOR\u001b[49m\u001b[43m,\u001b[49m\u001b[43m \u001b[49m\u001b[38;5;124;43m'\u001b[39;49m\u001b[38;5;124;43mbutton.bloom-load-button\u001b[39;49m\u001b[38;5;124;43m'\u001b[39;49m\u001b[43m)\u001b[49m\u001b[43m)\u001b[49m\u001b[43m)\u001b[49m\n\u001b[0;32m     46\u001b[0m driver\u001b[38;5;241m.\u001b[39mexecute_script(\u001b[38;5;124m\"\u001b[39m\u001b[38;5;124marguments[0].click();\u001b[39m\u001b[38;5;124m\"\u001b[39m, load_more)\n\u001b[0;32m     47\u001b[0m time\u001b[38;5;241m.\u001b[39msleep(\u001b[38;5;241m3\u001b[39m)\n",
      "File \u001b[1;32m~\\anaconda3\\Lib\\site-packages\\selenium\\webdriver\\support\\wait.py:138\u001b[0m, in \u001b[0;36mWebDriverWait.until\u001b[1;34m(self, method, message)\u001b[0m\n\u001b[0;32m    136\u001b[0m         \u001b[38;5;28;01mbreak\u001b[39;00m\n\u001b[0;32m    137\u001b[0m     time\u001b[38;5;241m.\u001b[39msleep(\u001b[38;5;28mself\u001b[39m\u001b[38;5;241m.\u001b[39m_poll)\n\u001b[1;32m--> 138\u001b[0m \u001b[38;5;28;01mraise\u001b[39;00m TimeoutException(message, screen, stacktrace)\n",
      "\u001b[1;31mTimeoutException\u001b[0m: Message: \n"
     ]
    }
   ],
   "source": [
    "from bs4 import BeautifulSoup\n",
    "from selenium import webdriver\n",
    "from selenium.webdriver.chrome.options import Options\n",
    "from selenium.webdriver.common.by import By\n",
    "from selenium.webdriver.support.ui import WebDriverWait\n",
    "from selenium.webdriver.support import expected_conditions as EC\n",
    "import time\n",
    "\n",
    "header = { \n",
    "    'User-Agent': 'Mozilla/5.0 (Windows NT 10.0; Win64; x64; rv:139.0) Gecko/20100101 Firefox/139.0'\n",
    "}\n",
    "page_url = 'https://www.jewelosco.com/aisle-vs/meat-seafood/meat-essentials.html?sort=price'\n",
    "\n",
    "# Set up Selenium\n",
    "options = Options()\n",
    "options.add_argument(\"--headless\")\n",
    "options.add_argument(\"--disable-blink-features=AutomationControlled\")\n",
    "options.add_argument(\"user-agent=Mozilla/5.0 (Windows NT 10.0; Win64; x64; rv:139.0) Gecko/20100101 Firefox/139.0\")\n",
    "\n",
    "# Get page with Selenium\n",
    "driver = webdriver.Chrome(options=options)\n",
    "driver.get(page_url)\n",
    "\n",
    "# exhaust load more button\n",
    "last_count = 0\n",
    "same_count = 0\n",
    "max_attempts = 5\n",
    "\n",
    "while same_count < 3 and max_attempts > 0:\n",
    "    max_attempts -=1\n",
    "\n",
    "    # load products and find total count of products\n",
    "    WebDriverWait(driver, 10).until(EC.presence_of_element_located((By.CSS_SELECTOR, 'a[data-qa=\"prd-itm-pttl\"]')))\n",
    "    current_products = driver.find_elements(By.CSS_SELECTOR, 'a[data-qa=\"prd-itm-pttl\"]')\n",
    "    current_count = len(current_products)\n",
    "\n",
    "    # check product count to see if load more worked (loaded more items)\n",
    "    if current_count == last_count:\n",
    "        same_count += 1\n",
    "    else:\n",
    "        same_count = 0\n",
    "        last_count = current_count\n",
    "\n",
    "    # check button existence\n",
    "    load_more = WebDriverWait(driver, 3).until(EC.element_to_be_clickable((By.CSS_SELECTOR, 'button.bloom-load-button')))\n",
    "    driver.execute_script(\"arguments[0].click();\", load_more)\n",
    "    time.sleep(3)\n",
    "\n",
    "# Parse with BeautifulSoup\n",
    "soup = BeautifulSoup(driver.page_source, 'lxml')\n",
    "products = soup.findAll('a', attrs={'data-qa':'prd-itm-pttl'})\n",
    "\n",
    "if not products:\n",
    "    print(\"No products found. Possible issues:\")\n",
    "    print(\"- The page structure may have changed\")\n",
    "    print(\"- The content might be loaded dynamically with JavaScript\")\n",
    "    print(\"- The website might be blocking your scraper\")\n",
    "else:\n",
    "    for product in products:\n",
    "        print(product.text.strip())\n",
    "\n",
    "driver.quit()"
   ]
  },
  {
   "cell_type": "code",
   "execution_count": null,
   "id": "6e0b3945-0815-4f61-8ca3-6ec3cbe1bf23",
   "metadata": {},
   "outputs": [],
   "source": []
  }
 ],
 "metadata": {
  "kernelspec": {
   "display_name": "Python 3 (ipykernel)",
   "language": "python",
   "name": "python3"
  },
  "language_info": {
   "codemirror_mode": {
    "name": "ipython",
    "version": 3
   },
   "file_extension": ".py",
   "mimetype": "text/x-python",
   "name": "python",
   "nbconvert_exporter": "python",
   "pygments_lexer": "ipython3",
   "version": "3.12.7"
  }
 },
 "nbformat": 4,
 "nbformat_minor": 5
}
